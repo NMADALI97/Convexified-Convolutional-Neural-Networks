{
  "nbformat": 4,
  "nbformat_minor": 0,
  "metadata": {
    "colab": {
      "name": "Phase transition diagrams.ipynb",
      "provenance": [],
      "collapsed_sections": []
    },
    "kernelspec": {
      "name": "python3",
      "display_name": "Python 3"
    },
    "accelerator": "GPU"
  },
  "cells": [
    {
      "cell_type": "markdown",
      "metadata": {
        "id": "cwjqG1_ZkHM9",
        "colab_type": "text"
      },
      "source": [
        "# Machine Learning: Ridge Regression\n",
        "\n",
        "Ridge regression is a regression technique that is quite similar to unadorned least squares linear regression: simply adding an $\\ell_2$ **penalty** on the parameters $\\beta$ to the objective function for linear regression yields the objective function for ridge regression.\n",
        "\n",
        "Our goal is to find an assignment to $\\beta$ that minimizes the function\n",
        "\n",
        "$$f(\\beta) = \\|Xw - Y\\|_2^2 + \\lambda \\|w\\|_2^2+\\beta r^Tw,$$\n",
        "\n",
        "where ,$\\beta > 0$ is a small regularization parameter that controlsthe amount of random perturbation,r is a random vectorr distributed as $\\mathcal{N}(0,\\mathbb{I}_d)$ and $\\lambda$ is a hyperparameter and, as usual, $X$ is the training data and $Y$ the observations. In practice, we tune $\\lambda$ until we find a model that generalizes well to the test data.\n",
        "\n",
        "Ridge regression is an example of a **shrinkage method**: compared to least squares, it shrinks the parameter estimates in the hopes of **reducing variance, improving prediction accuracy, and aiding interpetation**.\n",
        "\n",
        "In this notebook, we show how to fit a ridge regression model using CVXPY, how to evaluate the model, and how to tune the hyper-parameter $\\lambda$.\n"
      ]
    },
    {
      "cell_type": "code",
      "metadata": {
        "id": "cv30EIiEkGCa",
        "colab_type": "code",
        "colab": {}
      },
      "source": [
        ""
      ],
      "execution_count": 0,
      "outputs": []
    },
    {
      "cell_type": "code",
      "metadata": {
        "id": "f_IgEjsRv79Q",
        "colab_type": "code",
        "colab": {}
      },
      "source": [
        "import cvxpy as cp\n",
        "import numpy as np\n",
        "import matplotlib.pyplot as plt\n",
        "\n",
        "%matplotlib inline"
      ],
      "execution_count": 0,
      "outputs": []
    },
    {
      "cell_type": "markdown",
      "metadata": {
        "id": "3QT_bWSplDn6",
        "colab_type": "text"
      },
      "source": [
        "### Writing the objective function\n",
        "\n",
        "We can decompose the **objective function** as the sum of a **least squares loss function** and an $\\ell_2$ **regularizer**."
      ]
    },
    {
      "cell_type": "code",
      "metadata": {
        "id": "P9LG0_j20ae7",
        "colab_type": "code",
        "colab": {}
      },
      "source": [
        "def cvxpy_conv_1D(X,w,k=5):\n",
        "  return X@cp.hstack([w for i in range(k) ])"
      ],
      "execution_count": 0,
      "outputs": []
    },
    {
      "cell_type": "code",
      "metadata": {
        "id": "gBoBdh0IxRGL",
        "colab_type": "code",
        "colab": {}
      },
      "source": [
        "def loss_fn(X, Y, beta,k):\n",
        "    return cp.norm2(cvxpy_conv_1D(X,beta,k) - Y)**2 \n",
        "\n",
        "def regularizer(beta):\n",
        "    return cp.norm1(beta)\n",
        "\n",
        "def objective_fn(X, Y, beta,k):\n",
        "    return loss_fn(X, Y, beta,k) \n",
        "\n",
        "def mse(X, Y,r, beta):\n",
        "    return (1.0 / X.shape[0]) * loss_fn(X, Y, beta).value+ 0.0001*beta@r"
      ],
      "execution_count": 0,
      "outputs": []
    },
    {
      "cell_type": "code",
      "metadata": {
        "id": "fEWwCjvhzPJE",
        "colab_type": "code",
        "colab": {}
      },
      "source": [
        "def conv_1D(A,w):\n",
        "  tmp=[]\n",
        "  for j in range(A.shape[0]) :\n",
        "    s=0\n",
        "    for i in range(A.shape[1]//len(w)):\n",
        "      s+=w@A[j,i*len(w):(i+1)*len(w)]\n",
        "    tmp.append(s)\n",
        "  return np.array(tmp)\n"
      ],
      "execution_count": 0,
      "outputs": []
    },
    {
      "cell_type": "markdown",
      "metadata": {
        "id": "ogL_jvOzlF_m",
        "colab_type": "text"
      },
      "source": [
        "### Generating data\n",
        "Because ridge regression encourages the parameter estimates to be small, and as such tends to lead to models with **less variance** than those fit with vanilla linear regression. We generate a dataset that will illustrate this."
      ]
    },
    {
      "cell_type": "code",
      "metadata": {
        "id": "Xm6ivR2ZxjvB",
        "colab_type": "code",
        "colab": {}
      },
      "source": [
        "def generate_data(n=100, d=20, k=5):\n",
        "    beta_star = np.random.randn(d//k)\n",
        "    X = np.random.normal(0, 1, size=(n,d))\n",
        "    Y = conv_1D(X,beta_star)\n",
        "    r=np.random.normal(0, 1, size=d//k)\n",
        "    return X, Y,r, beta_star\n",
        "\n"
      ],
      "execution_count": 0,
      "outputs": []
    },
    {
      "cell_type": "markdown",
      "metadata": {
        "id": "3dV8RJjzljyn",
        "colab_type": "text"
      },
      "source": [
        "# Phase transition diagrams for (BP)\n",
        "\n",
        "We say that the reconstruction is a success when $||x-x_{recover}||_2\\leq 0.001$"
      ]
    },
    {
      "cell_type": "code",
      "metadata": {
        "id": "lc4WRpiY260k",
        "colab_type": "code",
        "colab": {}
      },
      "source": [
        "from cvxopt import matrix, solvers, sparse, sparse, spmatrix, spdiag\n",
        "from cvxpy import *\n",
        "def phase_transition_mat(N,d_,k, nbtest,relaxed=True):\n",
        "    \"\"\"return a N.N/2 matrix with the number of reconstruction success for every  1 < m < N measurements \n",
        "    and sparsity 1 < sparsity < N/2\n",
        "    N : ambiant dimension of the signals\n",
        "    nbtest : number of tests for each pixel\"\"\"\n",
        "\n",
        "    PTM=[]\n",
        "    for n in np.arange(10,N,10):\n",
        "      print(n)\n",
        "      tmp=[]\n",
        "      for d in range(k,d_,k):\n",
        "        s=0\n",
        "        for trial in range(nbtest):  \n",
        "          X, Y,r, beta_star = generate_data(n, d, k)\n",
        "          beta = cp.Variable(d//k) \n",
        "          if  relaxed:       \n",
        "            problem = cp.Problem(cp.Minimize(objective_fn(X, Y, beta,k) + 0.0001*regularizer(beta@r)  ))\n",
        "          else :\n",
        "            problem = cp.Problem(cp.Minimize(objective_fn(X, Y, beta,k)  ))\n",
        "          problem.solve()          \n",
        "          sol = beta.value              \n",
        "          if np.linalg.norm(beta_star - sol ,2) < 10**(-4):\n",
        "            s+=1\n",
        "        tmp.append(s)\n",
        "      PTM.append(tmp)\n",
        "\n",
        "\n",
        "\n",
        "\n",
        "\n",
        "    return np.transpose(np.array(PTM))"
      ],
      "execution_count": 0,
      "outputs": []
    },
    {
      "cell_type": "markdown",
      "metadata": {
        "id": "dq801jLtlOTX",
        "colab_type": "text"
      },
      "source": [
        "## Fitting the model\n",
        "\n",
        "All we need to do to fit the model is create a CVXPY problem where the objective is to minimize the the objective function defined above. We make $\\lambda$ a CVXPY parameter, so that we can use a single CVXPY problem to obtain estimates for many values of $\\lambda$."
      ]
    },
    {
      "cell_type": "code",
      "metadata": {
        "id": "6ZxlUF8A5IRl",
        "colab_type": "code",
        "colab": {}
      },
      "source": [
        "N,d,k, nbtest = 1000,200, 5,16\n",
        "mat = phase_transition_mat(N,d,k, nbtest)# construction of the matrix with the number of success among nbtest"
      ],
      "execution_count": 0,
      "outputs": []
    },
    {
      "cell_type": "code",
      "metadata": {
        "id": "PeMsb10OFXEX",
        "colab_type": "code",
        "outputId": "ceedcd54-02a9-4813-f734-6aaa9f4afe1b",
        "colab": {
          "base_uri": "https://localhost:8080/",
          "height": 300
        }
      },
      "source": [
        "S_min, S_max, P_min, P_max=0,N,0,d\n",
        "fig = plt.imshow(mat, interpolation=\"gaussian\",  aspect='auto', origin = 'lower', extent=[S_min, S_max, P_min, P_max])\n",
        "plt.xlabel('n')\n",
        "plt.ylabel('d')"
      ],
      "execution_count": 0,
      "outputs": [
        {
          "output_type": "execute_result",
          "data": {
            "text/plain": [
              "Text(0, 0.5, 'd')"
            ]
          },
          "metadata": {
            "tags": []
          },
          "execution_count": 24
        },
        {
          "output_type": "display_data",
          "data": {
            "image/png": "[encoded data removed]",
            "text/plain": [
              "<Figure size 432x288 with 1 Axes>"
            ]
          },
          "metadata": {
            "tags": []
          }
        }
      ]
    },
    {
      "cell_type": "code",
      "metadata": {
        "id": "DDa37zN4NeUu",
        "colab_type": "code",
        "colab": {}
      },
      "source": [
        "N,d,k, nbtest = 1000,200, 2,16\n",
        "mat = phase_transition_mat(N,d,k, nbtest)# construction of the matrix with the number of success among nbtest"
      ],
      "execution_count": 0,
      "outputs": []
    },
    {
      "cell_type": "code",
      "metadata": {
        "id": "utD_bcE3NgS8",
        "colab_type": "code",
        "outputId": "f60f1c8c-7b49-4b27-8a0d-76ab6ae8a01d",
        "colab": {
          "base_uri": "https://localhost:8080/",
          "height": 300
        }
      },
      "source": [
        "\n",
        "S_min, S_max, P_min, P_max=0,N,0,d\n",
        "fig = plt.imshow(math, interpolation=\"gaussian\",  aspect='auto', origin = 'lower', extent=[S_min, S_max, P_min, P_max])\n",
        "plt.xlabel('n')\n",
        "plt.ylabel('d')"
      ],
      "execution_count": 4,
      "outputs": [
        {
          "output_type": "execute_result",
          "data": {
            "text/plain": [
              "Text(0, 0.5, 'd')"
            ]
          },
          "metadata": {
            "tags": []
          },
          "execution_count": 4
        },
        {
          "output_type": "display_data",
          "data": {
            "image/png": "[encoded data removed]",
            "text/plain": [
              "<Figure size 432x288 with 1 Axes>"
            ]
          },
          "metadata": {
            "tags": []
          }
        }
      ]
    }
  ]
}