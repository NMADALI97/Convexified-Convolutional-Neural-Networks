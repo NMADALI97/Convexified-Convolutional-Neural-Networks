{
  "nbformat": 4,
  "nbformat_minor": 0,
  "metadata": {
    "colab": {
      "name": "Phase transition diagrams.ipynb",
      "provenance": [],
      "collapsed_sections": []
    },
    "kernelspec": {
      "name": "python3",
      "display_name": "Python 3"
    },
    "accelerator": "GPU"
  },
  "cells": [
    {
      "cell_type": "code",
      "metadata": {
        "id": "f_IgEjsRv79Q",
        "colab_type": "code",
        "colab": {}
      },
      "source": [
        "import cvxpy as cp\n",
        "import numpy as np\n",
        "import matplotlib.pyplot as plt\n",
        "\n",
        "%matplotlib inline"
      ],
      "execution_count": 0,
      "outputs": []
    },
    {
      "cell_type": "code",
      "metadata": {
        "id": "P9LG0_j20ae7",
        "colab_type": "code",
        "colab": {}
      },
      "source": [
        "def cvxpy_conv_1D(X,w,k=5):\n",
        "  return X@cp.hstack([w for i in range(k) ])"
      ],
      "execution_count": 0,
      "outputs": []
    },
    {
      "cell_type": "code",
      "metadata": {
        "id": "gBoBdh0IxRGL",
        "colab_type": "code",
        "colab": {}
      },
      "source": [
        "def loss_fn(X, Y, beta,k):\n",
        "    return cp.norm2(cvxpy_conv_1D(X,beta,k) - Y)**2 \n",
        "\n",
        "def regularizer(beta):\n",
        "    return cp.norm1(beta)\n",
        "\n",
        "def objective_fn(X, Y, beta,k):\n",
        "    return loss_fn(X, Y, beta,k) \n",
        "\n",
        "def mse(X, Y,r, beta):\n",
        "    return (1.0 / X.shape[0]) * loss_fn(X, Y, beta).value+ 0.0001*beta@r"
      ],
      "execution_count": 0,
      "outputs": []
    },
    {
      "cell_type": "code",
      "metadata": {
        "id": "fEWwCjvhzPJE",
        "colab_type": "code",
        "colab": {}
      },
      "source": [
        "def conv_1D(A,w):\n",
        "  tmp=[]\n",
        "  for j in range(A.shape[0]) :\n",
        "    s=0\n",
        "    for i in range(A.shape[1]//len(w)):\n",
        "      s+=w@A[j,i*len(w):(i+1)*len(w)]\n",
        "    tmp.append(s)\n",
        "  return np.array(tmp)\n"
      ],
      "execution_count": 0,
      "outputs": []
    },
    {
      "cell_type": "code",
      "metadata": {
        "id": "Xm6ivR2ZxjvB",
        "colab_type": "code",
        "colab": {}
      },
      "source": [
        "def generate_data(n=100, d=20, k=5):\n",
        "    beta_star = np.random.randn(d//k)\n",
        "    X = np.random.normal(0, 1, size=(n,d))\n",
        "    Y = conv_1D(X,beta_star)\n",
        "    r=np.random.normal(0, 1, size=d//k)\n",
        "    return X, Y,r, beta_star\n",
        "\n"
      ],
      "execution_count": 0,
      "outputs": []
    },
    {
      "cell_type": "code",
      "metadata": {
        "id": "lc4WRpiY260k",
        "colab_type": "code",
        "colab": {}
      },
      "source": [
        "from cvxopt import matrix, solvers, sparse, sparse, spmatrix, spdiag\n",
        "from cvxpy import *\n",
        "def phase_transition_mat(N,d_,k, nbtest,relaxed=True):\n",
        "    \"\"\"return a N.N/2 matrix with the number of reconstruction success for every  1 < m < N measurements \n",
        "    and sparsity 1 < sparsity < N/2\n",
        "    N : ambiant dimension of the signals\n",
        "    nbtest : number of tests for each pixel\"\"\"\n",
        "\n",
        "    PTM=[]\n",
        "    for n in np.arange(10,N,10):\n",
        "      print(n)\n",
        "      tmp=[]\n",
        "      for d in range(k,d_,k):\n",
        "        s=0\n",
        "        for trial in range(nbtest):  \n",
        "          X, Y,r, beta_star = generate_data(n, d, k)\n",
        "          beta = cp.Variable(d//k) \n",
        "          if  relaxed:       \n",
        "            problem = cp.Problem(cp.Minimize(objective_fn(X, Y, beta,k) + 0.0001*regularizer(beta@r)  ))\n",
        "          else :\n",
        "            problem = cp.Problem(cp.Minimize(objective_fn(X, Y, beta,k)  ))\n",
        "          problem.solve()          \n",
        "          sol = beta.value              \n",
        "          if np.linalg.norm(beta_star - sol ,2) < 10**(-4):\n",
        "            s+=1\n",
        "        tmp.append(s)\n",
        "      PTM.append(tmp)\n",
        "\n",
        "\n",
        "\n",
        "\n",
        "\n",
        "    return np.transpose(np.array(PTM))"
      ],
      "execution_count": 0,
      "outputs": []
    },
    {
      "cell_type": "code",
      "metadata": {
        "id": "6ZxlUF8A5IRl",
        "colab_type": "code",
        "colab": {}
      },
      "source": [
        "N,d,k, nbtest = 1000,200, 5,16\n",
        "mat = phase_transition_mat(N,d,k, nbtest)# construction of the matrix with the number of success among nbtest"
      ],
      "execution_count": 0,
      "outputs": []
    },
    {
      "cell_type": "code",
      "metadata": {
        "id": "PeMsb10OFXEX",
        "colab_type": "code",
        "colab": {
          "base_uri": "https://localhost:8080/",
          "height": 300
        },
        "outputId": "ceedcd54-02a9-4813-f734-6aaa9f4afe1b"
      },
      "source": [
        "S_min, S_max, P_min, P_max=0,N,0,d\n",
        "fig = plt.imshow(mat, interpolation=\"gaussian\",  aspect='auto', origin = 'lower', extent=[S_min, S_max, P_min, P_max])\n",
        "plt.xlabel('n')\n",
        "plt.ylabel('d')"
      ],
      "execution_count": 24,
      "outputs": [
        {
          "output_type": "execute_result",
          "data": {
            "text/plain": [
              "Text(0, 0.5, 'd')"
            ]
          },
          "metadata": {
            "tags": []
          },
          "execution_count": 24
        },
        {
          "output_type": "display_data",
          "data": {
            "image/png": "[encoded data removed]",
            "text/plain": [
              "<Figure size 432x288 with 1 Axes>"
            ]
          },
          "metadata": {
            "tags": []
          }
        }
      ]
    },
    {
      "cell_type": "code",
      "metadata": {
        "id": "DDa37zN4NeUu",
        "colab_type": "code",
        "colab": {}
      },
      "source": [
        "N,d,k, nbtest = 1000,200, 2,16\n",
        "mat = phase_transition_mat(N,d,k, nbtest)# construction of the matrix with the number of success among nbtest"
      ],
      "execution_count": 0,
      "outputs": []
    },
    {
      "cell_type": "code",
      "metadata": {
        "id": "utD_bcE3NgS8",
        "colab_type": "code",
        "colab": {
          "base_uri": "https://localhost:8080/",
          "height": 296
        },
        "outputId": "5afe73cd-7ae3-4743-b4cb-18b757ab0643"
      },
      "source": [
        "fig = plt.imshow(mat, interpolation=\"gaussian\",  aspect='auto', origin = 'lower')\n",
        "plt.xlabel('n')\n",
        "plt.ylabel('d')"
      ],
      "execution_count": 23,
      "outputs": [
        {
          "output_type": "execute_result",
          "data": {
            "text/plain": [
              "Text(0, 0.5, 'd')"
            ]
          },
          "metadata": {
            "tags": []
          },
          "execution_count": 23
        },
        {
          "output_type": "display_data",
          "data": {
            "image/png": "[encoded data removed]",
            "text/plain": [
              "<Figure size 432x288 with 1 Axes>"
            ]
          },
          "metadata": {
            "tags": []
          }
        }
      ]
    }
  ]
}